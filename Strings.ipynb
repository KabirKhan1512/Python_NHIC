{
 "cells": [
  {
   "cell_type": "code",
   "execution_count": 6,
   "id": "3939296d-f1ac-4617-b47a-2d08679cbc84",
   "metadata": {},
   "outputs": [],
   "source": [
    "a = \"string\""
   ]
  },
  {
   "cell_type": "code",
   "execution_count": 3,
   "id": "6acb2129-38cd-4b59-960a-fb4b7751cb21",
   "metadata": {},
   "outputs": [
    {
     "name": "stdout",
     "output_type": "stream",
     "text": [
      "<class 'str'>\n"
     ]
    }
   ],
   "source": [
    "print(type(a))"
   ]
  },
  {
   "cell_type": "markdown",
   "id": "097cd372-f850-4bb3-bbad-a1afe49214fe",
   "metadata": {},
   "source": [
    "#### String is a class and every class has some attributes and methods."
   ]
  },
  {
   "cell_type": "code",
   "execution_count": 7,
   "id": "69bca2b5-2b53-46a6-83c6-916f834e5a06",
   "metadata": {},
   "outputs": [
    {
     "data": {
      "text/plain": [
       "'STRING'"
      ]
     },
     "execution_count": 7,
     "metadata": {},
     "output_type": "execute_result"
    }
   ],
   "source": [
    "a.upper()"
   ]
  },
  {
   "cell_type": "code",
   "execution_count": 8,
   "id": "cb02e595-2b56-45e1-b2d5-da0cee7eab96",
   "metadata": {},
   "outputs": [],
   "source": [
    "b = \"KHAN\""
   ]
  },
  {
   "cell_type": "code",
   "execution_count": 11,
   "id": "3b5ad627-705b-4587-8c1b-b8789e65973c",
   "metadata": {},
   "outputs": [],
   "source": [
    "b = b.lower()"
   ]
  },
  {
   "cell_type": "code",
   "execution_count": 12,
   "id": "bb5ac68a-0266-4eea-8641-a99f22855fdb",
   "metadata": {},
   "outputs": [
    {
     "data": {
      "text/plain": [
       "'khan'"
      ]
     },
     "execution_count": 12,
     "metadata": {},
     "output_type": "execute_result"
    }
   ],
   "source": [
    "b"
   ]
  },
  {
   "cell_type": "code",
   "execution_count": 13,
   "id": "665ebc0a-7b3c-485b-86f0-443963b07f05",
   "metadata": {},
   "outputs": [
    {
     "data": {
      "text/plain": [
       "'Khan'"
      ]
     },
     "execution_count": 13,
     "metadata": {},
     "output_type": "execute_result"
    }
   ],
   "source": [
    "b.capitalize()"
   ]
  },
  {
   "cell_type": "code",
   "execution_count": 29,
   "id": "f41e7c41-2d61-480b-8384-b18f56a4d05f",
   "metadata": {},
   "outputs": [
    {
     "name": "stdin",
     "output_type": "stream",
     "text": [
      "Write your name:  kabir khan\n"
     ]
    }
   ],
   "source": [
    "name = input(\"Write your name: \").title()"
   ]
  },
  {
   "cell_type": "code",
   "execution_count": 30,
   "id": "909d3910-f1e1-4a63-aac6-9f8d27c4de71",
   "metadata": {},
   "outputs": [
    {
     "name": "stdout",
     "output_type": "stream",
     "text": [
      "Kabir Khan\n"
     ]
    }
   ],
   "source": [
    "print(name)"
   ]
  },
  {
   "cell_type": "code",
   "execution_count": 32,
   "id": "e1bc65c5-ae16-4652-bf3f-866653b73dc4",
   "metadata": {},
   "outputs": [
    {
     "name": "stdin",
     "output_type": "stream",
     "text": [
      "Write Your Name:  MuStAfA\n"
     ]
    }
   ],
   "source": [
    "names = input(\"Write Your Name: \").swapcase()"
   ]
  },
  {
   "cell_type": "code",
   "execution_count": 33,
   "id": "dd5f7973-b4b6-4600-9862-c03f503bb76d",
   "metadata": {},
   "outputs": [
    {
     "data": {
      "text/plain": [
       "'mUsTaFa'"
      ]
     },
     "execution_count": 33,
     "metadata": {},
     "output_type": "execute_result"
    }
   ],
   "source": [
    "names"
   ]
  },
  {
   "cell_type": "code",
   "execution_count": 26,
   "id": "386b0570-3c19-4095-bd5b-77c411b08dd0",
   "metadata": {},
   "outputs": [
    {
     "name": "stdin",
     "output_type": "stream",
     "text": [
      "name:  Kabir Khan\n"
     ]
    }
   ],
   "source": [
    "name = input(\"name: \")"
   ]
  },
  {
   "cell_type": "code",
   "execution_count": 23,
   "id": "a63b5ebe-c503-4598-a6b0-8514248856b7",
   "metadata": {},
   "outputs": [],
   "source": [
    "name = name.strip()\n",
    "name = name.replace(\" \", \"*\")"
   ]
  },
  {
   "cell_type": "code",
   "execution_count": 24,
   "id": "160b9bd5-fd70-48ea-98ff-fe7d8bf7374b",
   "metadata": {},
   "outputs": [
    {
     "data": {
      "text/plain": [
       "'Kabir*Khan'"
      ]
     },
     "execution_count": 24,
     "metadata": {},
     "output_type": "execute_result"
    }
   ],
   "source": [
    "name"
   ]
  },
  {
   "cell_type": "code",
   "execution_count": 14,
   "id": "b34e0ac7-7e5a-4db0-9ac3-2afd67205b8e",
   "metadata": {},
   "outputs": [
    {
     "data": {
      "text/plain": [
       "'Kabir!'"
      ]
     },
     "execution_count": 14,
     "metadata": {},
     "output_type": "execute_result"
    }
   ],
   "source": [
    "name"
   ]
  },
  {
   "cell_type": "code",
   "execution_count": 35,
   "id": "464ea9f3-276a-4f42-acea-a012370ff103",
   "metadata": {},
   "outputs": [
    {
     "ename": "ValueError",
     "evalue": "substring not found",
     "output_type": "error",
     "traceback": [
      "\u001b[31m---------------------------------------------------------------------------\u001b[39m",
      "\u001b[31mValueError\u001b[39m                                Traceback (most recent call last)",
      "\u001b[36mCell\u001b[39m\u001b[36m \u001b[39m\u001b[32mIn[35]\u001b[39m\u001b[32m, line 1\u001b[39m\n\u001b[32m----> \u001b[39m\u001b[32m1\u001b[39m \u001b[43mname\u001b[49m\u001b[43m.\u001b[49m\u001b[43mindex\u001b[49m\u001b[43m(\u001b[49m\u001b[33;43m\"\u001b[39;49m\u001b[33;43me\u001b[39;49m\u001b[33;43m\"\u001b[39;49m\u001b[43m)\u001b[49m\n",
      "\u001b[31mValueError\u001b[39m: substring not found"
     ]
    }
   ],
   "source": [
    "name.index(\"e\")"
   ]
  },
  {
   "cell_type": "code",
   "execution_count": 36,
   "id": "b98fc2b8-2649-489a-aecf-379b616209a2",
   "metadata": {},
   "outputs": [
    {
     "data": {
      "text/plain": [
       "2"
      ]
     },
     "execution_count": 36,
     "metadata": {},
     "output_type": "execute_result"
    }
   ],
   "source": [
    "name.count(\"a\")"
   ]
  },
  {
   "cell_type": "markdown",
   "id": "71689f1e-916d-49d1-b6de-44ec74868dfa",
   "metadata": {},
   "source": [
    "### *Assignment 3: Email Processing*\n",
    "\n",
    "python\n",
    "# Ask user to input an email address\n",
    "# 1. Extract and print the username (before @)\n",
    "# 2. Extract and print the domain (after @)\n",
    "# 3. Print the domain in uppercase\n",
    "# 4. Print the username in title case\n",
    "\n",
    "email = input(\"Enter your email address: \")\n"
   ]
  },
  {
   "cell_type": "code",
   "execution_count": 4,
   "id": "ad6837e2-348e-4a7a-a5bf-ac39accd2530",
   "metadata": {},
   "outputs": [
    {
     "name": "stdin",
     "output_type": "stream",
     "text": [
      "Write email:  kabir@gmail.com\n"
     ]
    },
    {
     "name": "stdout",
     "output_type": "stream",
     "text": [
      "the index of @ is 5.\n",
      "kabir\n",
      "gmail.com\n"
     ]
    }
   ],
   "source": [
    "email = input(\"Write email: \")\n",
    "index_1 = email.index(\"@\")\n",
    "print(f\"the index of @ is {index_1}.\")\n",
    "before = email[:index_1]\n",
    "after = email[index_1+1:]\n",
    "print(before)\n",
    "print(after)"
   ]
  },
  {
   "cell_type": "code",
   "execution_count": 18,
   "id": "dcb79dce-cc07-447a-88df-f252e4a1788e",
   "metadata": {},
   "outputs": [
    {
     "name": "stdin",
     "output_type": "stream",
     "text": [
      "Write username:  kabir khan\n"
     ]
    },
    {
     "name": "stdout",
     "output_type": "stream",
     "text": [
      "kabir khan\n",
      "Kabir Khan\n"
     ]
    }
   ],
   "source": [
    "username = input(\"Write username: \")\n",
    "if username.istitle() == False:\n",
    "    print(username)\n",
    "    username = username.title()\n",
    "    print(username)"
   ]
  },
  {
   "cell_type": "code",
   "execution_count": 28,
   "id": "4f563c63-ce2e-42ac-b6d1-b2381c252091",
   "metadata": {},
   "outputs": [
    {
     "name": "stdout",
     "output_type": "stream",
     "text": [
      "['Kabir', 'Khan', 'Ali', 'Ghulam', 'Zaid']\n"
     ]
    }
   ],
   "source": [
    "username = \"Kabir,Khan,Ali,Ghulam,Zaid\"\n",
    "print(username.split(\".\"))"
   ]
  },
  {
   "cell_type": "code",
   "execution_count": 3,
   "id": "2b23bce8-5fc7-428c-abd9-acd721bd8fad",
   "metadata": {},
   "outputs": [
    {
     "name": "stdout",
     "output_type": "stream",
     "text": [
      "['Ghulam', 'Rasool']\n"
     ]
    }
   ],
   "source": [
    "name = \"Ghulam-Rasool\"\n",
    "new_name = name.split(\"-\")\n",
    "print(new_name)"
   ]
  },
  {
   "cell_type": "code",
   "execution_count": 9,
   "id": "883857bb-454d-4ed4-9faf-817030a05a85",
   "metadata": {},
   "outputs": [],
   "source": [
    "website = \"www.google.com\", \"ALI\"\n",
    "# name = \"Ali\"\n",
    "\n",
    "\n",
    "# if website.startswith(\"www.\") == True:\n",
    "#     print(\"Its a website.\")\n",
    "# else:\n",
    "#     print(\"Its not a website.\")"
   ]
  },
  {
   "cell_type": "code",
   "execution_count": 10,
   "id": "b3f1f260-ba55-4a5c-9cda-cbe109360ca7",
   "metadata": {},
   "outputs": [
    {
     "data": {
      "text/plain": [
       "('www.google.com', 'ALI')"
      ]
     },
     "execution_count": 10,
     "metadata": {},
     "output_type": "execute_result"
    }
   ],
   "source": [
    "website"
   ]
  },
  {
   "cell_type": "code",
   "execution_count": 12,
   "id": "08a47df0-1e79-4e04-bc6b-9d1140a5ebc5",
   "metadata": {},
   "outputs": [
    {
     "name": "stdout",
     "output_type": "stream",
     "text": [
      "It's ALI which is not a link.\n",
      "It's 15 which is not a link.\n",
      "['www.google.com', 'www.apple.com']\n"
     ]
    }
   ],
   "source": [
    "data = [\"www.google.com\", \"ALI\", \"www.apple.com\", \"15\"]\n",
    "links = []\n",
    "\n",
    "for i in data:\n",
    "    if i.startswith(\"www.\") == True:\n",
    "        links.append(i)\n",
    "    else:\n",
    "        print(f\"It's {i} which is not a link.\")\n",
    "\n",
    "print(links)\n"
   ]
  },
  {
   "cell_type": "code",
   "execution_count": 14,
   "id": "15d9f1b4-8cbe-40dc-b695-7d21a27e7b28",
   "metadata": {},
   "outputs": [
    {
     "ename": "TypeError",
     "evalue": "maketrans expected at least 1 argument, got 0",
     "output_type": "error",
     "traceback": [
      "\u001b[31m---------------------------------------------------------------------------\u001b[39m",
      "\u001b[31mTypeError\u001b[39m                                 Traceback (most recent call last)",
      "\u001b[36mCell\u001b[39m\u001b[36m \u001b[39m\u001b[32mIn[14]\u001b[39m\u001b[32m, line 1\u001b[39m\n\u001b[32m----> \u001b[39m\u001b[32m1\u001b[39m \u001b[43mname\u001b[49m\u001b[43m.\u001b[49m\u001b[43mmaketrans\u001b[49m\u001b[43m(\u001b[49m\u001b[43m)\u001b[49m\n",
      "\u001b[31mTypeError\u001b[39m: maketrans expected at least 1 argument, got 0"
     ]
    }
   ],
   "source": [
    "name."
   ]
  },
  {
   "cell_type": "code",
   "execution_count": null,
   "id": "b0e301ba-9a8e-4e93-a772-af872eef9275",
   "metadata": {},
   "outputs": [],
   "source": [
    "\n",
    "\n"
   ]
  }
 ],
 "metadata": {
  "kernelspec": {
   "display_name": "Python (joel work)",
   "language": "python",
   "name": "joel_env"
  },
  "language_info": {
   "codemirror_mode": {
    "name": "ipython",
    "version": 3
   },
   "file_extension": ".py",
   "mimetype": "text/x-python",
   "name": "python",
   "nbconvert_exporter": "python",
   "pygments_lexer": "ipython3",
   "version": "3.12.7"
  }
 },
 "nbformat": 4,
 "nbformat_minor": 5
}

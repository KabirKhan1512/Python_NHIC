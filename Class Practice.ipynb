{
 "cells": [
  {
   "cell_type": "markdown",
   "id": "97297861-147f-43b6-a2c6-439486a810b4",
   "metadata": {},
   "source": [
    "## Our First Coding Experience"
   ]
  },
  {
   "cell_type": "code",
   "execution_count": 11,
   "id": "1ed7c06a-3151-4fc7-94a3-bb2ef8b1d3d2",
   "metadata": {},
   "outputs": [
    {
     "name": "stdout",
     "output_type": "stream",
     "text": [
      "Hello World!\n"
     ]
    }
   ],
   "source": [
    "# this is my first code\n",
    "# String\n",
    "# Paranthesis\n",
    "print(\"Hello World!\")"
   ]
  },
  {
   "cell_type": "code",
   "execution_count": 12,
   "id": "43e9cd99-4a43-45b0-a4be-c9bc64adf955",
   "metadata": {},
   "outputs": [
    {
     "name": "stdout",
     "output_type": "stream",
     "text": [
      "Hello Kabir\n"
     ]
    }
   ],
   "source": [
    "print(\"Hello Kabir\")"
   ]
  },
  {
   "cell_type": "code",
   "execution_count": 17,
   "id": "51a0bd4f-1c62-4b12-becb-5ee6ee484d66",
   "metadata": {},
   "outputs": [
    {
     "name": "stdout",
     "output_type": "stream",
     "text": [
      "Hello\n"
     ]
    }
   ],
   "source": [
    "print('Hello')"
   ]
  },
  {
   "cell_type": "code",
   "execution_count": null,
   "id": "d0667db0-ef15-42d2-927d-255dd0cfe177",
   "metadata": {},
   "outputs": [],
   "source": []
  },
  {
   "cell_type": "code",
   "execution_count": 17,
   "id": "6f19185c-68c8-4f59-ba5c-fd5b5b9e2fce",
   "metadata": {},
   "outputs": [
    {
     "name": "stdout",
     "output_type": "stream",
     "text": [
      "Hello\n",
      "Kabir\n",
      "Kabir\n"
     ]
    }
   ],
   "source": [
    "# python is case sensitive language\n",
    "\n",
    "print(\"Hello\")\n",
    "print(\"Kabir\")\n",
    "print(name)"
   ]
  },
  {
   "cell_type": "code",
   "execution_count": 18,
   "id": "97e67df4-53fb-4496-90d0-8a27d0bc87b1",
   "metadata": {},
   "outputs": [
    {
     "name": "stdout",
     "output_type": "stream",
     "text": [
      "The number is 7\n"
     ]
    }
   ],
   "source": [
    "print(\"The number is\", 7)"
   ]
  },
  {
   "cell_type": "code",
   "execution_count": 19,
   "id": "713fd18d-4143-4d5a-bde6-b36fcb09480c",
   "metadata": {},
   "outputs": [
    {
     "name": "stdout",
     "output_type": "stream",
     "text": [
      "32\n"
     ]
    }
   ],
   "source": [
    "print(17+15)"
   ]
  },
  {
   "cell_type": "markdown",
   "id": "ccb243fb-e52b-4899-8c1a-0f6c76949c5f",
   "metadata": {},
   "source": [
    "Python is a case sensitive language"
   ]
  },
  {
   "cell_type": "code",
   "execution_count": 15,
   "id": "35ee61b1-fb2b-4d04-ad6f-8e93b3d248d8",
   "metadata": {},
   "outputs": [
    {
     "name": "stdout",
     "output_type": "stream",
     "text": [
      "teacher\n"
     ]
    }
   ],
   "source": [
    "name = \"Kabir\"\n",
    "Name = \"Ali\"\n",
    "NAME = \"Hassan\"\n",
    "job = \"teacher\"\n",
    "print(job)"
   ]
  },
  {
   "cell_type": "code",
   "execution_count": 6,
   "id": "fa006594-884b-4f42-9d31-4ac5039f0af7",
   "metadata": {},
   "outputs": [
    {
     "name": "stdout",
     "output_type": "stream",
     "text": [
      "Kabir\n",
      "Hassan\n",
      "Ali\n"
     ]
    }
   ],
   "source": [
    "print(name)\n",
    "print(NAME)\n",
    "print(Name)"
   ]
  },
  {
   "cell_type": "code",
   "execution_count": 9,
   "id": "4934a7e1-8de2-4d4e-b8c8-39f382aa015c",
   "metadata": {},
   "outputs": [],
   "source": [
    "name = \"Kabir\"\n",
    "name = \"Ali\", \"Kabir\""
   ]
  },
  {
   "cell_type": "code",
   "execution_count": 14,
   "id": "4b5a9101-a174-4906-90a2-0b6f0b6344d7",
   "metadata": {},
   "outputs": [
    {
     "name": "stdout",
     "output_type": "stream",
     "text": [
      "teacher\n"
     ]
    }
   ],
   "source": [
    "print(job)"
   ]
  },
  {
   "cell_type": "code",
   "execution_count": 19,
   "id": "3fb2971a-e1e7-4996-92bd-5f198282a57d",
   "metadata": {},
   "outputs": [
    {
     "name": "stdin",
     "output_type": "stream",
     "text": [
      "Write your name:  dilshad\n"
     ]
    }
   ],
   "source": [
    "name = input(\"Write your name: \")"
   ]
  },
  {
   "cell_type": "code",
   "execution_count": 20,
   "id": "43b5d691-30a4-4331-8ab8-2e9d015b0622",
   "metadata": {},
   "outputs": [
    {
     "name": "stdout",
     "output_type": "stream",
     "text": [
      "dilshad\n"
     ]
    }
   ],
   "source": [
    "print(name)"
   ]
  },
  {
   "cell_type": "code",
   "execution_count": 24,
   "id": "35e47123-f155-47a9-9537-2cc31fa17e91",
   "metadata": {},
   "outputs": [
    {
     "name": "stdin",
     "output_type": "stream",
     "text": [
      "What is your age:  25\n"
     ]
    }
   ],
   "source": [
    "age = input(\"What is your age: \")"
   ]
  },
  {
   "cell_type": "code",
   "execution_count": 25,
   "id": "1d489e0a-3328-4bcb-942b-55cb9c4a82d6",
   "metadata": {},
   "outputs": [
    {
     "name": "stdout",
     "output_type": "stream",
     "text": [
      "25\n"
     ]
    }
   ],
   "source": [
    "print(age)"
   ]
  },
  {
   "cell_type": "code",
   "execution_count": 26,
   "id": "cd994548-d47e-4a86-be2e-b483f0076129",
   "metadata": {},
   "outputs": [
    {
     "name": "stdout",
     "output_type": "stream",
     "text": [
      "A new student is added who's name is Dilshad and age is 25.\n"
     ]
    }
   ],
   "source": [
    "print(\"A new student is added who's name is Dilshad and age is 25.\")"
   ]
  },
  {
   "cell_type": "markdown",
   "id": "247a580b-2cc7-4305-a606-ed8ac303ce93",
   "metadata": {},
   "source": [
    "## f string"
   ]
  },
  {
   "cell_type": "code",
   "execution_count": 27,
   "id": "0f11047e-2319-46a3-aa1e-5ca7608797f2",
   "metadata": {},
   "outputs": [
    {
     "name": "stdout",
     "output_type": "stream",
     "text": [
      "A new student is added who's name is dilshad and age is 25.\n"
     ]
    }
   ],
   "source": [
    "print(f\"A new student is added who's name is {name} and age is {age}.\")"
   ]
  },
  {
   "cell_type": "code",
   "execution_count": 29,
   "id": "bfc565cd-c796-4fb8-b651-870fcd72b89c",
   "metadata": {},
   "outputs": [
    {
     "name": "stdin",
     "output_type": "stream",
     "text": [
      "Write your name:  Usman\n",
      "What is your age:  24\n"
     ]
    },
    {
     "name": "stdout",
     "output_type": "stream",
     "text": [
      "A new student is added who's name is Usman and age is 24.\n"
     ]
    }
   ],
   "source": [
    "name = input(\"Write your name: \")\n",
    "age = input(\"What is your age: \")\n",
    "print(f\"A new student is added who's name is {name} and age is {age}.\")"
   ]
  },
  {
   "cell_type": "code",
   "execution_count": 30,
   "id": "a50ba366-f32b-4b62-94cb-70d83ec32df0",
   "metadata": {},
   "outputs": [
    {
     "name": "stdin",
     "output_type": "stream",
     "text": [
      "Write your name:  Siraj\n",
      "What is your age:  33\n"
     ]
    },
    {
     "name": "stdout",
     "output_type": "stream",
     "text": [
      "A new student is added who's name is Siraj and age is 33.\n"
     ]
    }
   ],
   "source": [
    "name = input(\"Write your name: \")\n",
    "age = input(\"What is your age: \")\n",
    "print(f\"A new student is added who's name is {name} and age is {age}.\")"
   ]
  },
  {
   "cell_type": "code",
   "execution_count": 34,
   "id": "f5b98231-81c3-4171-95d7-5ff0b06bdc14",
   "metadata": {},
   "outputs": [
    {
     "name": "stdout",
     "output_type": "stream",
     "text": [
      "Welcome to Noor e Hamze Page\n",
      "We are happy that you want to take admission here.\n"
     ]
    },
    {
     "name": "stdin",
     "output_type": "stream",
     "text": [
      "Kindly write your name here:  ali\n",
      "Mention your age pleas:  25\n"
     ]
    },
    {
     "name": "stdout",
     "output_type": "stream",
     "text": [
      "We are welcoming a new student named ali and his age is 25.\n"
     ]
    }
   ],
   "source": [
    "print(\"Welcome to Noor e Hamze Page\")\n",
    "print(\"We are happy that you want to take admission here.\")\n",
    "name = input(\"Kindly write your name here: \")\n",
    "age = input(\"Mention your age pleas: \")\n",
    "\n",
    "print(f\"We are welcoming a new student named {name} and his age is {age}.\")"
   ]
  },
  {
   "cell_type": "markdown",
   "id": "09f7a87a-1b90-4bcc-a92c-df90ca7e29fa",
   "metadata": {},
   "source": [
    "## Concatenation"
   ]
  },
  {
   "cell_type": "markdown",
   "id": "622e4cac-06ea-423e-b6b5-364521035b34",
   "metadata": {},
   "source": [
    "String concatenation is the process of joining two or more strings together to create a single, combined string."
   ]
  },
  {
   "cell_type": "code",
   "execution_count": 14,
   "id": "37832d38-cca2-4bf1-a409-08c757780907",
   "metadata": {},
   "outputs": [],
   "source": [
    "first_name = \"Kabir\"\n",
    "second_name = \"Khan\"\n",
    "age = 15\n",
    "# age = str(age)"
   ]
  },
  {
   "cell_type": "code",
   "execution_count": 20,
   "id": "83bac399-ac3a-4856-8670-8b5cd8d9458f",
   "metadata": {},
   "outputs": [
    {
     "name": "stdout",
     "output_type": "stream",
     "text": [
      "Kabir Khan15\n"
     ]
    }
   ],
   "source": [
    "print(first_name + \" \" + second_name + str(age))"
   ]
  },
  {
   "cell_type": "code",
   "execution_count": 10,
   "id": "112ee2d9-c6ff-49f3-ac90-25f9806eed30",
   "metadata": {},
   "outputs": [
    {
     "name": "stdout",
     "output_type": "stream",
     "text": [
      "NHIC\n",
      "Ali\n"
     ]
    }
   ],
   "source": [
    "print('NHIC\\nAli')\n",
    "# print(\"Ali\")"
   ]
  },
  {
   "cell_type": "code",
   "execution_count": 11,
   "id": "6e6ebe6e-22d2-44b2-912e-421dac2d457f",
   "metadata": {},
   "outputs": [
    {
     "ename": "SyntaxError",
     "evalue": "invalid decimal literal (863109315.py, line 1)",
     "output_type": "error",
     "traceback": [
      "\u001b[1;36m  Cell \u001b[1;32mIn[11], line 1\u001b[1;36m\u001b[0m\n\u001b[1;33m    1a = \"Kabir\"\u001b[0m\n\u001b[1;37m    ^\u001b[0m\n\u001b[1;31mSyntaxError\u001b[0m\u001b[1;31m:\u001b[0m invalid decimal literal\n"
     ]
    }
   ],
   "source": [
    "1a = \"Kabir\""
   ]
  },
  {
   "cell_type": "code",
   "execution_count": 13,
   "id": "b50918e0-6778-40dd-9db7-918a9eacd6ef",
   "metadata": {},
   "outputs": [
    {
     "ename": "SyntaxError",
     "evalue": "invalid syntax (3019430974.py, line 1)",
     "output_type": "error",
     "traceback": [
      "\u001b[1;36m  Cell \u001b[1;32mIn[13], line 1\u001b[1;36m\u001b[0m\n\u001b[1;33m    while= \"a\"\u001b[0m\n\u001b[1;37m         ^\u001b[0m\n\u001b[1;31mSyntaxError\u001b[0m\u001b[1;31m:\u001b[0m invalid syntax\n"
     ]
    }
   ],
   "source": [
    "while= \"a\""
   ]
  },
  {
   "cell_type": "code",
   "execution_count": 16,
   "id": "ca7ea4f7-da03-4e3f-8ae4-d1501baddc5b",
   "metadata": {},
   "outputs": [
    {
     "data": {
      "text/plain": [
       "int"
      ]
     },
     "execution_count": 16,
     "metadata": {},
     "output_type": "execute_result"
    }
   ],
   "source": [
    "type(age)"
   ]
  },
  {
   "cell_type": "code",
   "execution_count": 17,
   "id": "257a0060-e670-4dfa-b757-32428e8ac76d",
   "metadata": {},
   "outputs": [
    {
     "data": {
      "text/plain": [
       "str"
      ]
     },
     "execution_count": 17,
     "metadata": {},
     "output_type": "execute_result"
    }
   ],
   "source": [
    "type(first_name)"
   ]
  },
  {
   "cell_type": "markdown",
   "id": "aee2040e-dc86-456c-807b-6aa856423017",
   "metadata": {},
   "source": [
    "we can change one datatype into another."
   ]
  },
  {
   "cell_type": "code",
   "execution_count": 19,
   "id": "e3bca4f7-d9ff-4a60-9f16-d9fb76ddd8c4",
   "metadata": {},
   "outputs": [
    {
     "data": {
      "text/plain": [
       "0.0"
      ]
     },
     "execution_count": 19,
     "metadata": {},
     "output_type": "execute_result"
    }
   ],
   "source": [
    "int() #to change string into integer when possible\n",
    "str() #to change a variable into string when possible\n",
    "float() #to change a string into a decimal number when possible"
   ]
  },
  {
   "cell_type": "code",
   "execution_count": 21,
   "id": "dab3c013-a487-49b6-98c1-729a3b322fb2",
   "metadata": {},
   "outputs": [
    {
     "ename": "ValueError",
     "evalue": "invalid literal for int() with base 10: 'a'",
     "output_type": "error",
     "traceback": [
      "\u001b[1;31m---------------------------------------------------------------------------\u001b[0m",
      "\u001b[1;31mValueError\u001b[0m                                Traceback (most recent call last)",
      "Cell \u001b[1;32mIn[21], line 1\u001b[0m\n\u001b[1;32m----> 1\u001b[0m \u001b[38;5;28;43mint\u001b[39;49m\u001b[43m(\u001b[49m\u001b[38;5;124;43m\"\u001b[39;49m\u001b[38;5;124;43ma\u001b[39;49m\u001b[38;5;124;43m\"\u001b[39;49m\u001b[43m)\u001b[49m\n",
      "\u001b[1;31mValueError\u001b[0m: invalid literal for int() with base 10: 'a'"
     ]
    }
   ],
   "source": [
    "int(\"a\")"
   ]
  },
  {
   "cell_type": "code",
   "execution_count": 25,
   "id": "f68db8d1-39bf-45cc-86a9-6bc3ca3d8377",
   "metadata": {},
   "outputs": [],
   "source": [
    "c = 15\n",
    "d = 15.0"
   ]
  },
  {
   "cell_type": "code",
   "execution_count": 26,
   "id": "b6f3af49-7ed2-4938-883a-821b084e1e29",
   "metadata": {},
   "outputs": [
    {
     "name": "stdout",
     "output_type": "stream",
     "text": [
      "<class 'int'> <class 'float'>\n"
     ]
    }
   ],
   "source": [
    "print(type(c), type(d))"
   ]
  },
  {
   "cell_type": "code",
   "execution_count": 27,
   "id": "209925d4-7dd7-4ba1-86bf-cb214efef12e",
   "metadata": {},
   "outputs": [
    {
     "name": "stdout",
     "output_type": "stream",
     "text": [
      "30.0\n"
     ]
    }
   ],
   "source": [
    "print(c+d)"
   ]
  },
  {
   "cell_type": "code",
   "execution_count": 1,
   "id": "98c49800-af5b-4659-9f1b-7deed39b9b46",
   "metadata": {},
   "outputs": [],
   "source": [
    "a = 4"
   ]
  },
  {
   "cell_type": "code",
   "execution_count": 2,
   "id": "05b70b5c-6adf-4268-9668-ce9e5445d25b",
   "metadata": {},
   "outputs": [
    {
     "data": {
      "text/plain": [
       "2.0"
      ]
     },
     "execution_count": 2,
     "metadata": {},
     "output_type": "execute_result"
    }
   ],
   "source": [
    "(a)**1/2"
   ]
  },
  {
   "cell_type": "code",
   "execution_count": 3,
   "id": "dc812698-69ad-4a7d-b582-7f6e77f7d979",
   "metadata": {},
   "outputs": [],
   "source": [
    "import math"
   ]
  },
  {
   "cell_type": "code",
   "execution_count": 4,
   "id": "99f68667-099c-4bd9-93d1-6471960f77fc",
   "metadata": {},
   "outputs": [
    {
     "data": {
      "text/plain": [
       "2.0"
      ]
     },
     "execution_count": 4,
     "metadata": {},
     "output_type": "execute_result"
    }
   ],
   "source": [
    "math.sqrt(4)"
   ]
  },
  {
   "cell_type": "code",
   "execution_count": 8,
   "id": "5bc2e81e-8b20-49cd-855f-d643575d2b52",
   "metadata": {},
   "outputs": [],
   "source": [
    "a = \"Kabir\"\n",
    "b = 1\n",
    "c = True\n",
    "f = False #(Boolean)\n",
    "d = None\n",
    "e = 1.1\n"
   ]
  },
  {
   "cell_type": "code",
   "execution_count": 9,
   "id": "ddf14006-dd9d-4a99-96f5-d30ae708121d",
   "metadata": {},
   "outputs": [
    {
     "data": {
      "text/plain": [
       "str"
      ]
     },
     "execution_count": 9,
     "metadata": {},
     "output_type": "execute_result"
    }
   ],
   "source": [
    "type(a)"
   ]
  },
  {
   "cell_type": "code",
   "execution_count": 10,
   "id": "2fe09570-c142-4d30-8f29-c77c0b1e4a84",
   "metadata": {},
   "outputs": [
    {
     "data": {
      "text/plain": [
       "int"
      ]
     },
     "execution_count": 10,
     "metadata": {},
     "output_type": "execute_result"
    }
   ],
   "source": [
    "type(b)"
   ]
  },
  {
   "cell_type": "code",
   "execution_count": 11,
   "id": "6b372e7b-1c35-49e3-8a3d-03d51fb261ac",
   "metadata": {},
   "outputs": [
    {
     "data": {
      "text/plain": [
       "bool"
      ]
     },
     "execution_count": 11,
     "metadata": {},
     "output_type": "execute_result"
    }
   ],
   "source": [
    "type(c)"
   ]
  },
  {
   "cell_type": "code",
   "execution_count": 12,
   "id": "0564bf8b-26fe-4251-aef5-ea2bf4995e7e",
   "metadata": {},
   "outputs": [
    {
     "data": {
      "text/plain": [
       "NoneType"
      ]
     },
     "execution_count": 12,
     "metadata": {},
     "output_type": "execute_result"
    }
   ],
   "source": [
    "type(d)"
   ]
  },
  {
   "cell_type": "code",
   "execution_count": 13,
   "id": "a75d64e8-5690-4e87-8765-8cb2e8f4b7a5",
   "metadata": {},
   "outputs": [
    {
     "data": {
      "text/plain": [
       "float"
      ]
     },
     "execution_count": 13,
     "metadata": {},
     "output_type": "execute_result"
    }
   ],
   "source": [
    "type(e)"
   ]
  },
  {
   "cell_type": "code",
   "execution_count": 14,
   "id": "7a479bf1-396e-406e-a61f-5b76ed182d58",
   "metadata": {},
   "outputs": [
    {
     "data": {
      "text/plain": [
       "bool"
      ]
     },
     "execution_count": 14,
     "metadata": {},
     "output_type": "execute_result"
    }
   ],
   "source": [
    "type(f)"
   ]
  },
  {
   "cell_type": "markdown",
   "id": "2fbd8a41-5978-4ce9-988f-c13b0e7833f9",
   "metadata": {},
   "source": [
    "Multiple data\n",
    "\n",
    "Sequenced\n",
    "- List (Mutable)\n",
    "- Tuple (Immutable)\n",
    "\n",
    "No Sequence\n",
    "- Dictionary (Muutable)"
   ]
  },
  {
   "cell_type": "code",
   "execution_count": 5,
   "id": "f4b78887-bd36-42b1-90a4-c16297c0c535",
   "metadata": {},
   "outputs": [],
   "source": [
    "name = [\"Kabir\", \"Mustafa\", \"Munib\", \"Siraj\"]"
   ]
  },
  {
   "cell_type": "code",
   "execution_count": 8,
   "id": "ca810082-f7aa-43a6-be47-9694edd2be96",
   "metadata": {},
   "outputs": [
    {
     "name": "stdout",
     "output_type": "stream",
     "text": [
      "Kabir\n"
     ]
    }
   ],
   "source": [
    "print(name[0])"
   ]
  },
  {
   "cell_type": "code",
   "execution_count": 3,
   "id": "bfa5f4f8-cc88-4d2a-b304-8379bbe9ca31",
   "metadata": {},
   "outputs": [],
   "source": [
    "names_t = (\"Kabir\", \"Mustafa\", \"Munib\", \"Siraj\")"
   ]
  },
  {
   "cell_type": "code",
   "execution_count": 9,
   "id": "5af92e96-1dcb-4e09-a9a2-c52acdb8590e",
   "metadata": {},
   "outputs": [
    {
     "name": "stdout",
     "output_type": "stream",
     "text": [
      "Kabir\n"
     ]
    }
   ],
   "source": [
    "print(names_t[0])"
   ]
  },
  {
   "cell_type": "code",
   "execution_count": 10,
   "id": "e83fd019-04d2-432d-9637-4ab9d56f7696",
   "metadata": {},
   "outputs": [],
   "source": [
    "name.append(\"Daniyal\")"
   ]
  },
  {
   "cell_type": "code",
   "execution_count": 11,
   "id": "9cf14f85-f670-469a-bba0-c4dd17d7a4dc",
   "metadata": {},
   "outputs": [
    {
     "data": {
      "text/plain": [
       "['Kabir', 'Mustafa', 'Munib', 'Siraj', 'Daniyal']"
      ]
     },
     "execution_count": 11,
     "metadata": {},
     "output_type": "execute_result"
    }
   ],
   "source": [
    "name."
   ]
  },
  {
   "cell_type": "code",
   "execution_count": 15,
   "id": "02263aa9-8c35-4f8e-9d2f-c4bd6e654291",
   "metadata": {},
   "outputs": [
    {
     "data": {
      "text/plain": [
       "<function tuple.count(value, /)>"
      ]
     },
     "execution_count": 15,
     "metadata": {},
     "output_type": "execute_result"
    }
   ],
   "source": []
  },
  {
   "cell_type": "code",
   "execution_count": 23,
   "id": "d7a60aba-b657-4d7a-bf9d-7d2caefbf6c9",
   "metadata": {},
   "outputs": [],
   "source": [
    "employee1 = {\n",
    "    \"name\": \"Kabir\",\n",
    "    \"job\": \"Teaching\",\n",
    "    \"salary\": 40000\n",
    "}"
   ]
  },
  {
   "cell_type": "code",
   "execution_count": 24,
   "id": "53714959-29d8-474e-a87a-b3301f18316d",
   "metadata": {},
   "outputs": [
    {
     "data": {
      "text/plain": [
       "40000"
      ]
     },
     "execution_count": 24,
     "metadata": {},
     "output_type": "execute_result"
    }
   ],
   "source": [
    "employee1[\"salary\"]"
   ]
  },
  {
   "cell_type": "code",
   "execution_count": 25,
   "id": "53715f69-2d16-4c40-ba7b-c53eec8ff5a7",
   "metadata": {},
   "outputs": [],
   "source": [
    "employee1[\"address\"] = \"Karachi\""
   ]
  },
  {
   "cell_type": "code",
   "execution_count": 26,
   "id": "2d3922c3-ac5a-4409-aa46-dd704754055e",
   "metadata": {},
   "outputs": [
    {
     "data": {
      "text/plain": [
       "{'name': 'Kabir', 'job': 'Teaching', 'salary': 40000, 'address': 'Karachi'}"
      ]
     },
     "execution_count": 26,
     "metadata": {},
     "output_type": "execute_result"
    }
   ],
   "source": [
    "employee1"
   ]
  },
  {
   "cell_type": "code",
   "execution_count": 27,
   "id": "3db91e04-ce41-4cbd-9e67-b84d4755342d",
   "metadata": {},
   "outputs": [],
   "source": [
    "a = 3\n",
    "b = 6"
   ]
  },
  {
   "cell_type": "code",
   "execution_count": 28,
   "id": "10a06a64-ae33-4e0e-97c9-2e3e2ae35141",
   "metadata": {},
   "outputs": [
    {
     "data": {
      "text/plain": [
       "9"
      ]
     },
     "execution_count": 28,
     "metadata": {},
     "output_type": "execute_result"
    }
   ],
   "source": [
    "a + b"
   ]
  },
  {
   "cell_type": "code",
   "execution_count": 29,
   "id": "f56712d2-cf66-4780-ba0e-147e5f462265",
   "metadata": {},
   "outputs": [
    {
     "data": {
      "text/plain": [
       "-3"
      ]
     },
     "execution_count": 29,
     "metadata": {},
     "output_type": "execute_result"
    }
   ],
   "source": [
    "a- b "
   ]
  },
  {
   "cell_type": "code",
   "execution_count": 30,
   "id": "14e980da-5cbb-4619-a253-f1b54aeae5ee",
   "metadata": {},
   "outputs": [
    {
     "data": {
      "text/plain": [
       "18"
      ]
     },
     "execution_count": 30,
     "metadata": {},
     "output_type": "execute_result"
    }
   ],
   "source": [
    "a * b"
   ]
  },
  {
   "cell_type": "code",
   "execution_count": 31,
   "id": "8df607d3-5fed-4159-98d2-b3cfaaab85a0",
   "metadata": {},
   "outputs": [
    {
     "data": {
      "text/plain": [
       "729"
      ]
     },
     "execution_count": 31,
     "metadata": {},
     "output_type": "execute_result"
    }
   ],
   "source": [
    "a ** b"
   ]
  },
  {
   "cell_type": "code",
   "execution_count": 32,
   "id": "b28a3a10-1341-4b69-9963-901aa04411dc",
   "metadata": {},
   "outputs": [
    {
     "data": {
      "text/plain": [
       "0.5"
      ]
     },
     "execution_count": 32,
     "metadata": {},
     "output_type": "execute_result"
    }
   ],
   "source": [
    "a / b"
   ]
  },
  {
   "cell_type": "code",
   "execution_count": 34,
   "id": "562a9d59-7f64-42a1-8ee1-4329dab8717f",
   "metadata": {},
   "outputs": [
    {
     "data": {
      "text/plain": [
       "4"
      ]
     },
     "execution_count": 34,
     "metadata": {},
     "output_type": "execute_result"
    }
   ],
   "source": [
    "25 % 7"
   ]
  },
  {
   "cell_type": "code",
   "execution_count": 35,
   "id": "7634a94b-cd5e-43c0-b33f-18df437a4ba6",
   "metadata": {},
   "outputs": [
    {
     "data": {
      "text/plain": [
       "5"
      ]
     },
     "execution_count": 35,
     "metadata": {},
     "output_type": "execute_result"
    }
   ],
   "source": [
    "105 % 10"
   ]
  },
  {
   "cell_type": "code",
   "execution_count": 36,
   "id": "7d525584-7e8c-4411-af2a-0a7f20edcb35",
   "metadata": {},
   "outputs": [
    {
     "data": {
      "text/plain": [
       "3"
      ]
     },
     "execution_count": 36,
     "metadata": {},
     "output_type": "execute_result"
    }
   ],
   "source": [
    "25 // 7"
   ]
  },
  {
   "cell_type": "code",
   "execution_count": 38,
   "id": "b60a8f5f-1f09-4efe-b6ff-c3efedc2c52e",
   "metadata": {},
   "outputs": [
    {
     "data": {
      "text/plain": [
       "10"
      ]
     },
     "execution_count": 38,
     "metadata": {},
     "output_type": "execute_result"
    }
   ],
   "source": [
    "105 // 10"
   ]
  },
  {
   "cell_type": "code",
   "execution_count": 3,
   "id": "5230bd77-0d6c-44d3-8a26-716a30d4a74b",
   "metadata": {},
   "outputs": [],
   "source": [
    "full_name = \"kabir\""
   ]
  },
  {
   "cell_type": "code",
   "execution_count": 5,
   "id": "0c3c27ec-4108-482a-be47-c7320742d086",
   "metadata": {},
   "outputs": [
    {
     "name": "stdin",
     "output_type": "stream",
     "text": [
      "Write 1st num:  a\n"
     ]
    },
    {
     "ename": "ValueError",
     "evalue": "invalid literal for int() with base 10: 'a'",
     "output_type": "error",
     "traceback": [
      "\u001b[1;31m---------------------------------------------------------------------------\u001b[0m",
      "\u001b[1;31mValueError\u001b[0m                                Traceback (most recent call last)",
      "Cell \u001b[1;32mIn[5], line 1\u001b[0m\n\u001b[1;32m----> 1\u001b[0m num_1 \u001b[38;5;241m=\u001b[39m \u001b[38;5;28;43mint\u001b[39;49m\u001b[43m(\u001b[49m\u001b[38;5;28;43minput\u001b[39;49m\u001b[43m(\u001b[49m\u001b[38;5;124;43m\"\u001b[39;49m\u001b[38;5;124;43mWrite 1st num: \u001b[39;49m\u001b[38;5;124;43m\"\u001b[39;49m\u001b[43m)\u001b[49m\u001b[43m)\u001b[49m\n\u001b[0;32m      2\u001b[0m num_2 \u001b[38;5;241m=\u001b[39m \u001b[38;5;28minput\u001b[39m(\u001b[38;5;124m\"\u001b[39m\u001b[38;5;124mWrite 1st num: \u001b[39m\u001b[38;5;124m\"\u001b[39m)\n\u001b[0;32m      3\u001b[0m \u001b[38;5;28mprint\u001b[39m(\u001b[38;5;124mf\u001b[39m\u001b[38;5;124m\"\u001b[39m\u001b[38;5;124mThe addition of two numbers is \u001b[39m\u001b[38;5;132;01m{\u001b[39;00mnum_1\u001b[38;5;241m+\u001b[39mnum_2\u001b[38;5;132;01m}\u001b[39;00m\u001b[38;5;124m.\u001b[39m\u001b[38;5;124m\"\u001b[39m)\n",
      "\u001b[1;31mValueError\u001b[0m: invalid literal for int() with base 10: 'a'"
     ]
    }
   ],
   "source": [
    "num_1 = int(input(\"Write 1st num: \"))\n",
    "num_2 = input(\"Write 1st num: \")\n",
    "print(f\"The addition of two numbers is {num_1+num_2}.\")"
   ]
  },
  {
   "cell_type": "code",
   "execution_count": 14,
   "id": "a066a8a5-e2b6-4fd7-ae55-bce5041cd4e3",
   "metadata": {},
   "outputs": [
    {
     "name": "stdout",
     "output_type": "stream",
     "text": [
      "The data type of given variabe () is <class 'tuple'>.\n"
     ]
    }
   ],
   "source": [
    "a = ()\n",
    "\n",
    "print(f\"The data type of given variabe {a} is {type(a)}.\")\n"
   ]
  },
  {
   "cell_type": "code",
   "execution_count": 18,
   "id": "49bd6b8f-2cfd-4c20-b0f4-71289aa0ab3e",
   "metadata": {},
   "outputs": [
    {
     "name": "stdin",
     "output_type": "stream",
     "text": [
      "Write a number:  4\n"
     ]
    },
    {
     "name": "stdout",
     "output_type": "stream",
     "text": [
      "The given number is even.\n"
     ]
    }
   ],
   "source": [
    "a = int(input(\"Write a number: \"))\n",
    "\n",
    "if a % 2 == 1:\n",
    "    print(\"The given number is odd.\")\n",
    "elif a % 2 == 0:\n",
    "    print(\"The given number is even.\")"
   ]
  },
  {
   "cell_type": "code",
   "execution_count": 19,
   "id": "fdfbfdf8-a306-4294-9884-8748cb26c8d1",
   "metadata": {},
   "outputs": [
    {
     "name": "stdout",
     "output_type": "stream",
     "text": [
      "My favortite foods are: ['rice', 'meat', 'Vegs'].\n"
     ]
    }
   ],
   "source": [
    "food = [\"rice\", \"meat\", \"Vegs\"]\n",
    "\n",
    "print(f\"My favortite foods are: {food}.\")"
   ]
  },
  {
   "cell_type": "code",
   "execution_count": 31,
   "id": "6d15356b-822e-42f7-8f76-4a46fa9d1edf",
   "metadata": {},
   "outputs": [
    {
     "name": "stdout",
     "output_type": "stream",
     "text": [
      "My favorite foods are:  ['rice', 'meat'] .\n"
     ]
    }
   ],
   "source": [
    "print(\"My favorite foods are: \", food[0:2],\".\")"
   ]
  },
  {
   "cell_type": "markdown",
   "id": "e2884e4e-9ea1-4c00-aa9b-b9804bca29f8",
   "metadata": {},
   "source": [
    "✅ Assignment 3: Data Type and Variable Practice\n",
    "Objective: Understand variable creation and data types.\n",
    "\n",
    "Task:\n",
    "Write a program that:\n",
    "\n",
    "•\tCreates the following variables:\n",
    "\n",
    "o\tAn integer\n",
    "o\tA float\n",
    "o\tA string\n",
    "o\tA boolean\n",
    "•\tPrints each variable with its value and type using type()\n",
    "Example Output:\n",
    "pgsql\n",
    "CopyEdit\n",
    "Integer value: 5, Type: <class 'int'>\n",
    "Float value: 3.14, Type: <class 'float'>\n",
    "String value: Hello, Type: <class 'str'>\n",
    "Boolean value: True, Type: <class 'bool'>\n"
   ]
  },
  {
   "cell_type": "code",
   "execution_count": 5,
   "id": "eb444a8b-f2b3-41bf-88f7-42f5acfa54de",
   "metadata": {},
   "outputs": [
    {
     "name": "stdin",
     "output_type": "stream",
     "text": [
      "Write a number:  5\n"
     ]
    },
    {
     "name": "stdout",
     "output_type": "stream",
     "text": [
      "Integer value: Khan, Type: <class 'int'>\n"
     ]
    }
   ],
   "source": [
    "a = int(input(\"Write a number: \"))\n",
    "# b = float(input(\"Write a number: \"))\n",
    "# c = bool(input(\"Write a number: \"))\n",
    "# d = input(\"Write a number: \")\n",
    "\n",
    "print(f\"Integer value: Khan, Type: {type(a)}\")\n"
   ]
  },
  {
   "cell_type": "code",
   "execution_count": 15,
   "id": "a752bff9-65b9-47a0-9991-d9fc123f9197",
   "metadata": {},
   "outputs": [],
   "source": [
    "names = [\"a\", \"b\"]"
   ]
  },
  {
   "cell_type": "code",
   "execution_count": 16,
   "id": "94879a1f-efa2-4078-aa80-10576f2a1062",
   "metadata": {},
   "outputs": [
    {
     "data": {
      "text/plain": [
       "list"
      ]
     },
     "execution_count": 16,
     "metadata": {},
     "output_type": "execute_result"
    }
   ],
   "source": [
    "type(names)"
   ]
  },
  {
   "cell_type": "code",
   "execution_count": 18,
   "id": "ffd7cf49-4d0b-4085-995e-969b1e05194f",
   "metadata": {},
   "outputs": [],
   "source": [
    "names = tuple(names)"
   ]
  },
  {
   "cell_type": "code",
   "execution_count": 19,
   "id": "680ce964-a045-4110-8960-efb5b8866f7f",
   "metadata": {},
   "outputs": [
    {
     "data": {
      "text/plain": [
       "tuple"
      ]
     },
     "execution_count": 19,
     "metadata": {},
     "output_type": "execute_result"
    }
   ],
   "source": [
    "type(names)"
   ]
  },
  {
   "cell_type": "code",
   "execution_count": 21,
   "id": "abb4f145-2cd1-473c-b2bf-b8c19b2473b2",
   "metadata": {},
   "outputs": [],
   "source": [
    "names = list(names)"
   ]
  },
  {
   "cell_type": "code",
   "execution_count": 22,
   "id": "b95ddb71-f077-4bc3-8dca-b8acbc44c582",
   "metadata": {},
   "outputs": [
    {
     "data": {
      "text/plain": [
       "list"
      ]
     },
     "execution_count": 22,
     "metadata": {},
     "output_type": "execute_result"
    }
   ],
   "source": [
    "type(names)"
   ]
  },
  {
   "cell_type": "code",
   "execution_count": 31,
   "id": "d5cf70b8-982c-47fd-9224-00d425d1c870",
   "metadata": {},
   "outputs": [],
   "source": [
    "employee = [(\"name\", \"Zaid\")]"
   ]
  },
  {
   "cell_type": "code",
   "execution_count": 32,
   "id": "7da50d72-d0f3-4797-9a58-cc9aa7bc5334",
   "metadata": {},
   "outputs": [],
   "source": [
    "employee = dict(employee)"
   ]
  },
  {
   "cell_type": "code",
   "execution_count": 33,
   "id": "e1f8eaf6-d397-46a8-b73a-7ebfd299a3ff",
   "metadata": {},
   "outputs": [
    {
     "data": {
      "text/plain": [
       "{'name': 'Zaid'}"
      ]
     },
     "execution_count": 33,
     "metadata": {},
     "output_type": "execute_result"
    }
   ],
   "source": [
    "employee"
   ]
  },
  {
   "cell_type": "code",
   "execution_count": 34,
   "id": "bc5c7c80-bc41-41af-b577-82c725688dd4",
   "metadata": {},
   "outputs": [],
   "source": [
    "a = 7\n",
    "b = 3.5"
   ]
  },
  {
   "cell_type": "code",
   "execution_count": 35,
   "id": "b3cc56c7-a10d-4b94-b15c-309e22dc92c1",
   "metadata": {},
   "outputs": [
    {
     "data": {
      "text/plain": [
       "3"
      ]
     },
     "execution_count": 35,
     "metadata": {},
     "output_type": "execute_result"
    }
   ],
   "source": [
    "int(b)"
   ]
  },
  {
   "cell_type": "code",
   "execution_count": 12,
   "id": "d7148011-3c12-4651-8bfa-c77f92df41ca",
   "metadata": {},
   "outputs": [],
   "source": [
    "a  = \"khan\"\n",
    "b = 'Zaid'"
   ]
  },
  {
   "cell_type": "code",
   "execution_count": 3,
   "id": "74e77bc2-9115-4b00-90ad-68d5b73217b1",
   "metadata": {},
   "outputs": [
    {
     "data": {
      "text/plain": [
       "1854939421440"
      ]
     },
     "execution_count": 3,
     "metadata": {},
     "output_type": "execute_result"
    }
   ],
   "source": [
    "id(a)"
   ]
  },
  {
   "cell_type": "code",
   "execution_count": 4,
   "id": "81122ab4-5c8d-44c5-b250-8947fe2fd40a",
   "metadata": {},
   "outputs": [
    {
     "data": {
      "text/plain": [
       "1854939563184"
      ]
     },
     "execution_count": 4,
     "metadata": {},
     "output_type": "execute_result"
    }
   ],
   "source": [
    "id(b)"
   ]
  },
  {
   "cell_type": "code",
   "execution_count": 16,
   "id": "beefe139-75e9-4a08-8150-9f44c4ea87f7",
   "metadata": {},
   "outputs": [
    {
     "name": "stdout",
     "output_type": "stream",
     "text": [
      "Hello! Ali\n"
     ]
    }
   ],
   "source": [
    "name = \"Ali\"\n",
    "\n",
    "print(f\"Hello! {name}\")"
   ]
  },
  {
   "cell_type": "code",
   "execution_count": 18,
   "id": "6adf43af-9303-49d1-a5a3-64acad924cab",
   "metadata": {},
   "outputs": [],
   "source": [
    "message = \"\"\"I have reached the destination.\n",
    "and it is karachi.\"\"\""
   ]
  },
  {
   "cell_type": "code",
   "execution_count": 20,
   "id": "d34006b5-e1f7-4b54-af44-d712999453a2",
   "metadata": {},
   "outputs": [
    {
     "data": {
      "text/plain": [
       "'I have reached the destination.\\nand it is karachi.'"
      ]
     },
     "execution_count": 20,
     "metadata": {},
     "output_type": "execute_result"
    }
   ],
   "source": [
    "message"
   ]
  },
  {
   "cell_type": "code",
   "execution_count": 21,
   "id": "d6abff72-920f-42ee-ad1f-3b5a9e0f9abc",
   "metadata": {},
   "outputs": [
    {
     "data": {
      "text/plain": [
       "'k'"
      ]
     },
     "execution_count": 21,
     "metadata": {},
     "output_type": "execute_result"
    }
   ],
   "source": [
    "a[0]"
   ]
  },
  {
   "cell_type": "code",
   "execution_count": 22,
   "id": "372211f1-3412-4d6b-ac54-a7a3823654e3",
   "metadata": {},
   "outputs": [
    {
     "data": {
      "text/plain": [
       "'h'"
      ]
     },
     "execution_count": 22,
     "metadata": {},
     "output_type": "execute_result"
    }
   ],
   "source": [
    "a[1]"
   ]
  },
  {
   "cell_type": "code",
   "execution_count": 24,
   "id": "64fe1bfe-1875-4a38-8e03-a3be3bb79bef",
   "metadata": {},
   "outputs": [],
   "source": []
  },
  {
   "cell_type": "code",
   "execution_count": 25,
   "id": "944c1965-ec79-413a-a37d-8bcbe3c69c2c",
   "metadata": {},
   "outputs": [
    {
     "data": {
      "text/plain": [
       "'Kabir'"
      ]
     },
     "execution_count": 25,
     "metadata": {},
     "output_type": "execute_result"
    }
   ],
   "source": [
    "students[\"names\"]"
   ]
  },
  {
   "cell_type": "code",
   "execution_count": 27,
   "id": "818aaf96-766a-4ec5-8b06-8b690096d987",
   "metadata": {},
   "outputs": [
    {
     "data": {
      "text/plain": [
       "70"
      ]
     },
     "execution_count": 27,
     "metadata": {},
     "output_type": "execute_result"
    }
   ],
   "source": [
    "students[\"marks\"]"
   ]
  },
  {
   "cell_type": "code",
   "execution_count": 28,
   "id": "7fe26339-79d1-425a-926c-2add1c9cb1e7",
   "metadata": {},
   "outputs": [
    {
     "data": {
      "text/plain": [
       "4"
      ]
     },
     "execution_count": 28,
     "metadata": {},
     "output_type": "execute_result"
    }
   ],
   "source": [
    "len(a)"
   ]
  },
  {
   "cell_type": "code",
   "execution_count": 29,
   "id": "58f0be73-a2ab-4394-b140-3745203cde1e",
   "metadata": {},
   "outputs": [],
   "source": [
    "names = [\"kabir\", \"zaid\", \"khan\"]"
   ]
  },
  {
   "cell_type": "code",
   "execution_count": 34,
   "id": "e1d64339-4736-4162-aff7-a81baaf97e6d",
   "metadata": {},
   "outputs": [
    {
     "data": {
      "text/plain": [
       "['kabir', 'zaid', 'khan']"
      ]
     },
     "execution_count": 34,
     "metadata": {},
     "output_type": "execute_result"
    }
   ],
   "source": [
    "names[:]"
   ]
  },
  {
   "cell_type": "code",
   "execution_count": 32,
   "id": "01d62076-de31-48da-a495-e2c9a4ce988e",
   "metadata": {},
   "outputs": [
    {
     "data": {
      "text/plain": [
       "('kabir', 'khan')"
      ]
     },
     "execution_count": 32,
     "metadata": {},
     "output_type": "execute_result"
    }
   ],
   "source": [
    "names[0], names[2]"
   ]
  },
  {
   "cell_type": "code",
   "execution_count": 35,
   "id": "27ce6ae4-5774-4ec2-bcfa-53493f2830de",
   "metadata": {},
   "outputs": [
    {
     "data": {
      "text/plain": [
       "50"
      ]
     },
     "execution_count": 35,
     "metadata": {},
     "output_type": "execute_result"
    }
   ],
   "source": [
    "len(message)"
   ]
  },
  {
   "cell_type": "code",
   "execution_count": 36,
   "id": "deaeae19-01a5-4c77-87ea-217756d207d2",
   "metadata": {},
   "outputs": [],
   "source": [
    "text = \"I study in Noor e Hamza Islamic College.\""
   ]
  },
  {
   "cell_type": "code",
   "execution_count": 38,
   "id": "06d3390a-b318-4ec7-b681-4c46fc6411ba",
   "metadata": {},
   "outputs": [
    {
     "data": {
      "text/plain": [
       "' '"
      ]
     },
     "execution_count": 38,
     "metadata": {},
     "output_type": "execute_result"
    }
   ],
   "source": [
    "text[10]"
   ]
  },
  {
   "cell_type": "markdown",
   "id": "8eab15f7-d256-472f-afb1-dcc8f5b3e0f5",
   "metadata": {},
   "source": [
    "### Slicing From Number to Number"
   ]
  },
  {
   "cell_type": "code",
   "execution_count": 39,
   "id": "5f8b7e3b-898c-42f8-85eb-25cdd6af767e",
   "metadata": {},
   "outputs": [
    {
     "data": {
      "text/plain": [
       "'dy in '"
      ]
     },
     "execution_count": 39,
     "metadata": {},
     "output_type": "execute_result"
    }
   ],
   "source": [
    "text[5:11]"
   ]
  },
  {
   "cell_type": "markdown",
   "id": "8cf5ce70-8485-4267-807e-c9b0364aa457",
   "metadata": {},
   "source": [
    "### Slicing From Start to a Number"
   ]
  },
  {
   "cell_type": "code",
   "execution_count": 40,
   "id": "915de396-b03e-40ca-9323-e430e0573bdd",
   "metadata": {},
   "outputs": [
    {
     "data": {
      "text/plain": [
       "'I study in'"
      ]
     },
     "execution_count": 40,
     "metadata": {},
     "output_type": "execute_result"
    }
   ],
   "source": [
    "text[:10]"
   ]
  },
  {
   "cell_type": "code",
   "execution_count": 41,
   "id": "5baa4fc3-15d3-4f3c-b1c2-d600505ae8ba",
   "metadata": {},
   "outputs": [
    {
     "data": {
      "text/plain": [
       "' Noor e Hamza Islamic College.'"
      ]
     },
     "execution_count": 41,
     "metadata": {},
     "output_type": "execute_result"
    }
   ],
   "source": [
    "text[10:]"
   ]
  },
  {
   "cell_type": "code",
   "execution_count": 50,
   "id": "ea11c47d-43f9-4beb-b97d-1d8f806e3d46",
   "metadata": {},
   "outputs": [
    {
     "data": {
      "text/plain": [
       "'I study in Noor e Hamza Islamic College.'"
      ]
     },
     "execution_count": 50,
     "metadata": {},
     "output_type": "execute_result"
    }
   ],
   "source": [
    "text[:]"
   ]
  },
  {
   "cell_type": "code",
   "execution_count": 44,
   "id": "c2aa7239-593f-4ed8-a95d-50f6f44228e6",
   "metadata": {},
   "outputs": [
    {
     "data": {
      "text/plain": [
       "40"
      ]
     },
     "execution_count": 44,
     "metadata": {},
     "output_type": "execute_result"
    }
   ],
   "source": [
    "len(text)"
   ]
  },
  {
   "cell_type": "markdown",
   "id": "fad4b2c3-44ec-482f-938b-887a4055d3f3",
   "metadata": {},
   "source": [
    "#### Sure! Here are 5 basic to intermediate-level string slicing assignments, each with a string to work on:\n",
    "\n",
    "---\n",
    "\n",
    "*1.* Given the string:\n",
    "text = \"PythonProgramming\"\n",
    "*Task:* Extract and print only the word \"Python\" using string slicing.\n",
    "\n",
    "---\n",
    "\n",
    "*2.* Given the string:\n",
    "text = \"DataScience101\"\n",
    "*Task:* Slice the string to get \"Science\" and \"101\" separately.\n",
    "\n",
    "---\n",
    "\n",
    "*3.* Given the string:\n",
    "text = \"ArtificialIntelligence\"\n",
    "*Task:* Print every second character from the string using slicing.\n",
    "\n",
    "---\n",
    "\n",
    "*4.* Given the string:\n",
    "text = \"MachineLearning\"\n",
    "*Task:* Reverse the string using slicing.\n",
    "\n",
    "---\n",
    "\n",
    "*5.* Given the string:\n",
    "text = \"WebDevelopment\"\n",
    "*Task:* Extract \"Develop\" using a slice that starts from a positive index and ends using a negative index.\n",
    "\n",
    "---\n",
    "\n",
    "Let me know if you want answer keys or more complex challenges."
   ]
  },
  {
   "cell_type": "code",
   "execution_count": 1,
   "id": "418f78d4-e59d-4e8f-bbff-473c70022795",
   "metadata": {},
   "outputs": [
    {
     "name": "stdout",
     "output_type": "stream",
     "text": [
      "Python\n"
     ]
    }
   ],
   "source": [
    "a = \"PythonProgramming\"\n",
    "\n",
    "print(a[:6])"
   ]
  },
  {
   "cell_type": "code",
   "execution_count": 2,
   "id": "780c5ce9-f825-4449-b3d5-2151210c91a9",
   "metadata": {},
   "outputs": [
    {
     "name": "stdout",
     "output_type": "stream",
     "text": [
      "Science\n"
     ]
    }
   ],
   "source": [
    "print(\"DataScience101\"[4:-3])"
   ]
  },
  {
   "cell_type": "code",
   "execution_count": 7,
   "id": "a119ca13-a992-4a88-aa56-8d2ab5e936e1",
   "metadata": {},
   "outputs": [
    {
     "name": "stdout",
     "output_type": "stream",
     "text": [
      "101\n"
     ]
    }
   ],
   "source": [
    "print(\"DataScience101\"[-3:])"
   ]
  },
  {
   "cell_type": "code",
   "execution_count": 14,
   "id": "4bdd7c7f-687f-41b1-92d3-7077fe689f3f",
   "metadata": {},
   "outputs": [
    {
     "name": "stdout",
     "output_type": "stream",
     "text": [
      "AtfcaItliec\n"
     ]
    }
   ],
   "source": [
    "print(\"ArtificialIntelligence\"[::2])"
   ]
  },
  {
   "cell_type": "markdown",
   "id": "5c2a0b99-e2b5-43fb-9d55-13c820dc7735",
   "metadata": {},
   "source": [
    "### string[1:6:2]\n",
    "    Start : End : Step"
   ]
  },
  {
   "cell_type": "code",
   "execution_count": 8,
   "id": "c6770f0a-4e59-4d3e-a789-39fec3c150de",
   "metadata": {},
   "outputs": [],
   "source": [
    "numbers = [\"1\", \"2\", \"3\", \"4\", \"5\", \"6\", \"7\", \"8\", \"9\", \"10\"]"
   ]
  },
  {
   "cell_type": "code",
   "execution_count": 12,
   "id": "545a9470-44e0-4da7-a015-c0184d2c8a42",
   "metadata": {},
   "outputs": [
    {
     "data": {
      "text/plain": [
       "['1', '4', '7', '10']"
      ]
     },
     "execution_count": 12,
     "metadata": {},
     "output_type": "execute_result"
    }
   ],
   "source": [
    "numbers[::3]"
   ]
  },
  {
   "cell_type": "code",
   "execution_count": 18,
   "id": "56160f97-b08f-49ff-92ca-eb814268b50c",
   "metadata": {},
   "outputs": [
    {
     "name": "stdout",
     "output_type": "stream",
     "text": [
      "ecnegilletnIlaicifitrA\n"
     ]
    }
   ],
   "source": [
    "print(\"ArtificialIntelligence\"[::-1])"
   ]
  },
  {
   "cell_type": "code",
   "execution_count": 19,
   "id": "c7feb0d3-4bcf-49cc-9f68-432d830051d2",
   "metadata": {},
   "outputs": [
    {
     "name": "stdout",
     "output_type": "stream",
     "text": [
      "Develop\n"
     ]
    }
   ],
   "source": [
    "print(\"WebDevelopment\"[3:-4])"
   ]
  },
  {
   "cell_type": "code",
   "execution_count": null,
   "id": "9e64f6a6-b7f2-4e16-a00c-22bc1393ef42",
   "metadata": {},
   "outputs": [],
   "source": []
  }
 ],
 "metadata": {
  "kernelspec": {
   "display_name": "Python 3 (ipykernel)",
   "language": "python",
   "name": "python3"
  },
  "language_info": {
   "codemirror_mode": {
    "name": "ipython",
    "version": 3
   },
   "file_extension": ".py",
   "mimetype": "text/x-python",
   "name": "python",
   "nbconvert_exporter": "python",
   "pygments_lexer": "ipython3",
   "version": "3.12.7"
  }
 },
 "nbformat": 4,
 "nbformat_minor": 5
}
